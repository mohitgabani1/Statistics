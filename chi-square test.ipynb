{
 "cells": [
  {
   "cell_type": "code",
   "execution_count": 1,
   "id": "79608438",
   "metadata": {},
   "outputs": [],
   "source": [
    "import numpy as np\n",
    "import pandas as pd\n",
    "from scipy.stats import *\n",
    "import seaborn as sns"
   ]
  },
  {
   "cell_type": "code",
   "execution_count": 38,
   "id": "a0bda9ce",
   "metadata": {},
   "outputs": [],
   "source": [
    "df = sns.load_dataset('tips')"
   ]
  },
  {
   "cell_type": "code",
   "execution_count": 39,
   "id": "bdfac605",
   "metadata": {},
   "outputs": [
    {
     "data": {
      "text/html": [
       "<div>\n",
       "<style scoped>\n",
       "    .dataframe tbody tr th:only-of-type {\n",
       "        vertical-align: middle;\n",
       "    }\n",
       "\n",
       "    .dataframe tbody tr th {\n",
       "        vertical-align: top;\n",
       "    }\n",
       "\n",
       "    .dataframe thead th {\n",
       "        text-align: right;\n",
       "    }\n",
       "</style>\n",
       "<table border=\"1\" class=\"dataframe\">\n",
       "  <thead>\n",
       "    <tr style=\"text-align: right;\">\n",
       "      <th></th>\n",
       "      <th>total_bill</th>\n",
       "      <th>tip</th>\n",
       "      <th>sex</th>\n",
       "      <th>smoker</th>\n",
       "      <th>day</th>\n",
       "      <th>time</th>\n",
       "      <th>size</th>\n",
       "    </tr>\n",
       "  </thead>\n",
       "  <tbody>\n",
       "    <tr>\n",
       "      <th>0</th>\n",
       "      <td>16.99</td>\n",
       "      <td>1.01</td>\n",
       "      <td>Female</td>\n",
       "      <td>No</td>\n",
       "      <td>Sun</td>\n",
       "      <td>Dinner</td>\n",
       "      <td>2</td>\n",
       "    </tr>\n",
       "    <tr>\n",
       "      <th>1</th>\n",
       "      <td>10.34</td>\n",
       "      <td>1.66</td>\n",
       "      <td>Male</td>\n",
       "      <td>No</td>\n",
       "      <td>Sun</td>\n",
       "      <td>Dinner</td>\n",
       "      <td>3</td>\n",
       "    </tr>\n",
       "    <tr>\n",
       "      <th>2</th>\n",
       "      <td>21.01</td>\n",
       "      <td>3.50</td>\n",
       "      <td>Male</td>\n",
       "      <td>No</td>\n",
       "      <td>Sun</td>\n",
       "      <td>Dinner</td>\n",
       "      <td>3</td>\n",
       "    </tr>\n",
       "    <tr>\n",
       "      <th>3</th>\n",
       "      <td>23.68</td>\n",
       "      <td>3.31</td>\n",
       "      <td>Male</td>\n",
       "      <td>No</td>\n",
       "      <td>Sun</td>\n",
       "      <td>Dinner</td>\n",
       "      <td>2</td>\n",
       "    </tr>\n",
       "    <tr>\n",
       "      <th>4</th>\n",
       "      <td>24.59</td>\n",
       "      <td>3.61</td>\n",
       "      <td>Female</td>\n",
       "      <td>No</td>\n",
       "      <td>Sun</td>\n",
       "      <td>Dinner</td>\n",
       "      <td>4</td>\n",
       "    </tr>\n",
       "  </tbody>\n",
       "</table>\n",
       "</div>"
      ],
      "text/plain": [
       "   total_bill   tip     sex smoker  day    time  size\n",
       "0       16.99  1.01  Female     No  Sun  Dinner     2\n",
       "1       10.34  1.66    Male     No  Sun  Dinner     3\n",
       "2       21.01  3.50    Male     No  Sun  Dinner     3\n",
       "3       23.68  3.31    Male     No  Sun  Dinner     2\n",
       "4       24.59  3.61  Female     No  Sun  Dinner     4"
      ]
     },
     "execution_count": 39,
     "metadata": {},
     "output_type": "execute_result"
    }
   ],
   "source": [
    "df.head()"
   ]
  },
  {
   "cell_type": "markdown",
   "id": "b6076779",
   "metadata": {},
   "source": [
    "# Manual calculation step by step:"
   ]
  },
  {
   "cell_type": "code",
   "execution_count": null,
   "id": "41e408f2",
   "metadata": {},
   "outputs": [],
   "source": [
    "# Null hypothesis: there is no association between sex and smoker column\n",
    "# Alternate hypothesis: there is association between sex and smoker column"
   ]
  },
  {
   "cell_type": "code",
   "execution_count": 77,
   "id": "85af5793",
   "metadata": {},
   "outputs": [
    {
     "data": {
      "text/html": [
       "<div>\n",
       "<style scoped>\n",
       "    .dataframe tbody tr th:only-of-type {\n",
       "        vertical-align: middle;\n",
       "    }\n",
       "\n",
       "    .dataframe tbody tr th {\n",
       "        vertical-align: top;\n",
       "    }\n",
       "\n",
       "    .dataframe thead th {\n",
       "        text-align: right;\n",
       "    }\n",
       "</style>\n",
       "<table border=\"1\" class=\"dataframe\">\n",
       "  <thead>\n",
       "    <tr style=\"text-align: right;\">\n",
       "      <th>smoker</th>\n",
       "      <th>Yes</th>\n",
       "      <th>No</th>\n",
       "      <th>All</th>\n",
       "    </tr>\n",
       "    <tr>\n",
       "      <th>sex</th>\n",
       "      <th></th>\n",
       "      <th></th>\n",
       "      <th></th>\n",
       "    </tr>\n",
       "  </thead>\n",
       "  <tbody>\n",
       "    <tr>\n",
       "      <th>Male</th>\n",
       "      <td>60</td>\n",
       "      <td>97</td>\n",
       "      <td>157</td>\n",
       "    </tr>\n",
       "    <tr>\n",
       "      <th>Female</th>\n",
       "      <td>33</td>\n",
       "      <td>54</td>\n",
       "      <td>87</td>\n",
       "    </tr>\n",
       "    <tr>\n",
       "      <th>All</th>\n",
       "      <td>93</td>\n",
       "      <td>151</td>\n",
       "      <td>244</td>\n",
       "    </tr>\n",
       "  </tbody>\n",
       "</table>\n",
       "</div>"
      ],
      "text/plain": [
       "smoker  Yes   No  All\n",
       "sex                  \n",
       "Male     60   97  157\n",
       "Female   33   54   87\n",
       "All      93  151  244"
      ]
     },
     "execution_count": 77,
     "metadata": {},
     "output_type": "execute_result"
    }
   ],
   "source": [
    "# cross tab creation:\n",
    "\n",
    "ct = pd.crosstab(df['sex'],df['smoker'],margins=True)\n",
    "ct"
   ]
  },
  {
   "cell_type": "code",
   "execution_count": 78,
   "id": "e72d83ee",
   "metadata": {},
   "outputs": [
    {
     "data": {
      "text/plain": [
       "array([[0., 0.],\n",
       "       [0., 0.]])"
      ]
     },
     "execution_count": 78,
     "metadata": {},
     "output_type": "execute_result"
    }
   ],
   "source": [
    "expected = np.zeros((ct.shape[0]-1, ct.shape[1]-1))\n",
    "expected"
   ]
  },
  {
   "cell_type": "code",
   "execution_count": 79,
   "id": "8606a249",
   "metadata": {},
   "outputs": [],
   "source": [
    "# finding expected value\n",
    "\n",
    "for i in range(ct.shape[0]-1):\n",
    "    for j in range(ct.shape[1]-1):\n",
    "        expected[i][j] = ct.iloc[-1,j]*ct.iloc[i,-1]/ct.iloc[-1,-1]"
   ]
  },
  {
   "cell_type": "code",
   "execution_count": 80,
   "id": "74d7395d",
   "metadata": {},
   "outputs": [
    {
     "data": {
      "text/plain": [
       "array([[59.84016393, 97.15983607],\n",
       "       [33.15983607, 53.84016393]])"
      ]
     },
     "execution_count": 80,
     "metadata": {},
     "output_type": "execute_result"
    }
   ],
   "source": [
    "expected"
   ]
  },
  {
   "cell_type": "code",
   "execution_count": 81,
   "id": "20c02ae9",
   "metadata": {},
   "outputs": [],
   "source": [
    "observed = ct.iloc[0:ct.shape[0]-1,0:ct.shape[1]-1].values"
   ]
  },
  {
   "cell_type": "code",
   "execution_count": 82,
   "id": "e918818a",
   "metadata": {},
   "outputs": [
    {
     "data": {
      "text/plain": [
       "array([[60, 97],\n",
       "       [33, 54]], dtype=int64)"
      ]
     },
     "execution_count": 82,
     "metadata": {},
     "output_type": "execute_result"
    }
   ],
   "source": [
    "observed"
   ]
  },
  {
   "cell_type": "code",
   "execution_count": 83,
   "id": "9e9a0b29",
   "metadata": {},
   "outputs": [],
   "source": [
    "chi2_statistics = np.sum([((o-e)**2)/e for o,e in zip(observed,expected)])"
   ]
  },
  {
   "cell_type": "code",
   "execution_count": 84,
   "id": "3e4a4645",
   "metadata": {},
   "outputs": [
    {
     "data": {
      "text/plain": [
       "0.001934818536627623"
      ]
     },
     "execution_count": 84,
     "metadata": {},
     "output_type": "execute_result"
    }
   ],
   "source": [
    "chi2_statistics"
   ]
  },
  {
   "cell_type": "code",
   "execution_count": 85,
   "id": "756b8532",
   "metadata": {},
   "outputs": [
    {
     "name": "stdout",
     "output_type": "stream",
     "text": [
      "Degree of freedom: 1\n"
     ]
    }
   ],
   "source": [
    "# degree of freedom:\n",
    "\n",
    "nrows = ct.shape[0]-1\n",
    "ncols = ct.shape[1]-1\n",
    "degree_freedom = (nrows-1)*(ncols-1)\n",
    "print(f\"Degree of freedom: {degree_freedom}\")"
   ]
  },
  {
   "cell_type": "code",
   "execution_count": 86,
   "id": "d2b9eab4",
   "metadata": {},
   "outputs": [
    {
     "name": "stdout",
     "output_type": "stream",
     "text": [
      "Critical value: 3.841458820694124\n"
     ]
    }
   ],
   "source": [
    "# critical value:\n",
    "confidence_level = 0.95\n",
    "alpha = 1-confidence_level\n",
    "\n",
    "critical_value = chi2.ppf(q=1-alpha, df = degree_freedom)\n",
    "print(f\"Critical value: {critical_value}\")"
   ]
  },
  {
   "cell_type": "code",
   "execution_count": 87,
   "id": "b7238217",
   "metadata": {},
   "outputs": [
    {
     "name": "stdout",
     "output_type": "stream",
     "text": [
      "We accept the Null Hypothesis\n"
     ]
    }
   ],
   "source": [
    "if chi2_statistics<critical_value:\n",
    "    print('We accept the Null Hypothesis')\n",
    "else:\n",
    "    print(\"We reject Null Hypothesis\")"
   ]
  },
  {
   "cell_type": "code",
   "execution_count": 88,
   "id": "7a9cbfd7",
   "metadata": {},
   "outputs": [
    {
     "name": "stdout",
     "output_type": "stream",
     "text": [
      "P value: 0.964915107315732\n"
     ]
    }
   ],
   "source": [
    "# p-value calculation:\n",
    "\n",
    "p_value = 1-chi2.cdf(chi2_statistics, df = degree_freedom)\n",
    "print(f\"P value: {p_value}\")"
   ]
  },
  {
   "cell_type": "code",
   "execution_count": 89,
   "id": "bf55bde0",
   "metadata": {},
   "outputs": [
    {
     "name": "stdout",
     "output_type": "stream",
     "text": [
      "We accept the Null Hypothesis\n"
     ]
    }
   ],
   "source": [
    "if p_value>alpha:\n",
    "    print('We accept the Null Hypothesis')\n",
    "else:\n",
    "    print(\"We reject Null Hypothesis\")"
   ]
  },
  {
   "cell_type": "markdown",
   "id": "ab76e9eb",
   "metadata": {},
   "source": [
    "# from scipy library:"
   ]
  },
  {
   "cell_type": "code",
   "execution_count": 92,
   "id": "2b49f547",
   "metadata": {},
   "outputs": [
    {
     "name": "stdout",
     "output_type": "stream",
     "text": [
      "Chi2ContingencyResult(statistic=0.0, pvalue=1.0, dof=1, expected_freq=array([[59.84016393, 97.15983607],\n",
      "       [33.15983607, 53.84016393]]))\n"
     ]
    }
   ],
   "source": [
    "table = chi2_contingency(observed)\n",
    "print(table)"
   ]
  },
  {
   "cell_type": "code",
   "execution_count": 93,
   "id": "d49c1221",
   "metadata": {},
   "outputs": [
    {
     "name": "stdout",
     "output_type": "stream",
     "text": [
      "Statistics: 0.0\n",
      "p_value: 1.0\n",
      "degree of freedom: 1\n"
     ]
    }
   ],
   "source": [
    "print(f\"Statistics: {table[0]}\")\n",
    "print(f\"p_value: {table[1]}\")\n",
    "print(f\"degree of freedom: {table[2]}\")"
   ]
  },
  {
   "cell_type": "code",
   "execution_count": null,
   "id": "14f7170b",
   "metadata": {},
   "outputs": [],
   "source": []
  }
 ],
 "metadata": {
  "kernelspec": {
   "display_name": "Python 3 (ipykernel)",
   "language": "python",
   "name": "python3"
  },
  "language_info": {
   "codemirror_mode": {
    "name": "ipython",
    "version": 3
   },
   "file_extension": ".py",
   "mimetype": "text/x-python",
   "name": "python",
   "nbconvert_exporter": "python",
   "pygments_lexer": "ipython3",
   "version": "3.11.5"
  }
 },
 "nbformat": 4,
 "nbformat_minor": 5
}
