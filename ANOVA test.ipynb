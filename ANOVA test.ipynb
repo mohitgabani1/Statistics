{
 "cells": [
  {
   "cell_type": "code",
   "execution_count": 1,
   "id": "6f0a2751",
   "metadata": {},
   "outputs": [],
   "source": [
    "import numpy as np\n",
    "import pandas as pd\n",
    "from scipy.stats import *"
   ]
  },
  {
   "cell_type": "code",
   "execution_count": 2,
   "id": "1d81af04",
   "metadata": {},
   "outputs": [],
   "source": [
    "df = pd.read_csv('https://raw.githubusercontent.com/mohitgabani1/Statistics/main/car_interest_rate.csv')"
   ]
  },
  {
   "cell_type": "code",
   "execution_count": 3,
   "id": "99391717",
   "metadata": {},
   "outputs": [
    {
     "data": {
      "text/html": [
       "<div>\n",
       "<style scoped>\n",
       "    .dataframe tbody tr th:only-of-type {\n",
       "        vertical-align: middle;\n",
       "    }\n",
       "\n",
       "    .dataframe tbody tr th {\n",
       "        vertical-align: top;\n",
       "    }\n",
       "\n",
       "    .dataframe thead th {\n",
       "        text-align: right;\n",
       "    }\n",
       "</style>\n",
       "<table border=\"1\" class=\"dataframe\">\n",
       "  <thead>\n",
       "    <tr style=\"text-align: right;\">\n",
       "      <th></th>\n",
       "      <th>atlanta</th>\n",
       "      <th>chicago</th>\n",
       "      <th>houston</th>\n",
       "      <th>memphis</th>\n",
       "      <th>newyork</th>\n",
       "      <th>philadelphia</th>\n",
       "    </tr>\n",
       "  </thead>\n",
       "  <tbody>\n",
       "    <tr>\n",
       "      <th>0</th>\n",
       "      <td>13.75</td>\n",
       "      <td>14.25</td>\n",
       "      <td>14.00</td>\n",
       "      <td>15.00</td>\n",
       "      <td>14.50</td>\n",
       "      <td>13.50</td>\n",
       "    </tr>\n",
       "    <tr>\n",
       "      <th>1</th>\n",
       "      <td>13.75</td>\n",
       "      <td>13.00</td>\n",
       "      <td>14.00</td>\n",
       "      <td>14.00</td>\n",
       "      <td>14.00</td>\n",
       "      <td>12.25</td>\n",
       "    </tr>\n",
       "    <tr>\n",
       "      <th>2</th>\n",
       "      <td>13.50</td>\n",
       "      <td>12.75</td>\n",
       "      <td>13.51</td>\n",
       "      <td>13.75</td>\n",
       "      <td>14.00</td>\n",
       "      <td>12.25</td>\n",
       "    </tr>\n",
       "    <tr>\n",
       "      <th>3</th>\n",
       "      <td>13.50</td>\n",
       "      <td>12.50</td>\n",
       "      <td>13.50</td>\n",
       "      <td>13.59</td>\n",
       "      <td>13.90</td>\n",
       "      <td>12.00</td>\n",
       "    </tr>\n",
       "    <tr>\n",
       "      <th>4</th>\n",
       "      <td>13.00</td>\n",
       "      <td>12.50</td>\n",
       "      <td>13.50</td>\n",
       "      <td>13.25</td>\n",
       "      <td>13.75</td>\n",
       "      <td>12.00</td>\n",
       "    </tr>\n",
       "    <tr>\n",
       "      <th>5</th>\n",
       "      <td>13.00</td>\n",
       "      <td>12.40</td>\n",
       "      <td>13.25</td>\n",
       "      <td>12.97</td>\n",
       "      <td>13.25</td>\n",
       "      <td>12.00</td>\n",
       "    </tr>\n",
       "    <tr>\n",
       "      <th>6</th>\n",
       "      <td>13.00</td>\n",
       "      <td>12.30</td>\n",
       "      <td>13.00</td>\n",
       "      <td>12.50</td>\n",
       "      <td>13.00</td>\n",
       "      <td>12.00</td>\n",
       "    </tr>\n",
       "    <tr>\n",
       "      <th>7</th>\n",
       "      <td>12.75</td>\n",
       "      <td>11.90</td>\n",
       "      <td>12.50</td>\n",
       "      <td>12.25</td>\n",
       "      <td>12.50</td>\n",
       "      <td>11.90</td>\n",
       "    </tr>\n",
       "    <tr>\n",
       "      <th>8</th>\n",
       "      <td>12.50</td>\n",
       "      <td>11.90</td>\n",
       "      <td>12.50</td>\n",
       "      <td>11.89</td>\n",
       "      <td>12.45</td>\n",
       "      <td>11.90</td>\n",
       "    </tr>\n",
       "  </tbody>\n",
       "</table>\n",
       "</div>"
      ],
      "text/plain": [
       "   atlanta  chicago  houston  memphis  newyork  philadelphia\n",
       "0    13.75    14.25    14.00    15.00    14.50         13.50\n",
       "1    13.75    13.00    14.00    14.00    14.00         12.25\n",
       "2    13.50    12.75    13.51    13.75    14.00         12.25\n",
       "3    13.50    12.50    13.50    13.59    13.90         12.00\n",
       "4    13.00    12.50    13.50    13.25    13.75         12.00\n",
       "5    13.00    12.40    13.25    12.97    13.25         12.00\n",
       "6    13.00    12.30    13.00    12.50    13.00         12.00\n",
       "7    12.75    11.90    12.50    12.25    12.50         11.90\n",
       "8    12.50    11.90    12.50    11.89    12.45         11.90"
      ]
     },
     "execution_count": 3,
     "metadata": {},
     "output_type": "execute_result"
    }
   ],
   "source": [
    "df"
   ]
  },
  {
   "cell_type": "markdown",
   "id": "e5520136",
   "metadata": {},
   "source": [
    "# One way ANOVA:\n",
    "#### one independent factor influence the sample data"
   ]
  },
  {
   "cell_type": "markdown",
   "id": "1fc68883",
   "metadata": {},
   "source": [
    "### Manual Calculation:"
   ]
  },
  {
   "cell_type": "code",
   "execution_count": 4,
   "id": "1c55f263",
   "metadata": {},
   "outputs": [],
   "source": [
    "# Null Hypothesis: mean interest rates are same among the cities\n",
    "# alternate Hypothesis: mean interest rates are not same among cities"
   ]
  },
  {
   "cell_type": "code",
   "execution_count": 5,
   "id": "ea3c573d",
   "metadata": {},
   "outputs": [
    {
     "name": "stdout",
     "output_type": "stream",
     "text": [
      "9135.362399999998\n"
     ]
    }
   ],
   "source": [
    "# step 1:\n",
    "# grand total\n",
    "T = np.sum(df.values)\n",
    "\n",
    "# total datapoint in all the samples\n",
    "N = df.size\n",
    "\n",
    "# correction factor\n",
    "correction_factor = T**2/N\n",
    "\n",
    "print(correction_factor)"
   ]
  },
  {
   "cell_type": "code",
   "execution_count": 6,
   "id": "157a77d3",
   "metadata": {},
   "outputs": [
    {
     "name": "stdout",
     "output_type": "stream",
     "text": [
      "{'ssb:': 10.94566666666833} {'dfb': 5}\n"
     ]
    }
   ],
   "source": [
    "# step 2: between sample\n",
    "\n",
    "# sum of square between sample:\n",
    "ssb = np.sum(np.square(df.sum(axis=0))/len(df))-correction_factor\n",
    "\n",
    "# degree of freedom: c - 1 -- c = no of columns\n",
    "dfb = df.shape[1]-1\n",
    "\n",
    "print({\"ssb:\": ssb}, {\"dfb\":dfb})"
   ]
  },
  {
   "cell_type": "code",
   "execution_count": 7,
   "id": "9b23f046",
   "metadata": {},
   "outputs": [
    {
     "name": "stdout",
     "output_type": "stream",
     "text": [
      "{'sst:': 32.70380000000296} {'dft': 53}\n"
     ]
    }
   ],
   "source": [
    "# step 3: total\n",
    "\n",
    "# total sum of square: square of each datapoint\n",
    "sst = np.sum(df.apply(np.square).sum(axis=0)) - correction_factor\n",
    "\n",
    "# degree of freedom: N-1\n",
    "dft = N-1\n",
    "\n",
    "print({\"sst:\": sst}, {\"dft\":dft})"
   ]
  },
  {
   "cell_type": "code",
   "execution_count": 8,
   "id": "3f2b116e",
   "metadata": {},
   "outputs": [
    {
     "name": "stdout",
     "output_type": "stream",
     "text": [
      "{'sse:': 21.758133333334627} {'dfe': 48}\n"
     ]
    }
   ],
   "source": [
    "# step 4: within sample\n",
    "\n",
    "# sum of square within sample\n",
    "sse = sst-ssb\n",
    "\n",
    "# degree of freedom: dft - dfb\n",
    "dfe = dft-dfb\n",
    "\n",
    "print({\"sse:\": sse}, {\"dfe\":dfe})"
   ]
  },
  {
   "cell_type": "code",
   "execution_count": 9,
   "id": "aab65ece",
   "metadata": {},
   "outputs": [
    {
     "name": "stdout",
     "output_type": "stream",
     "text": [
      "{'mssb:': 2.189133333333666} {'msse:': 0.45329444444447137}\n"
     ]
    }
   ],
   "source": [
    "# step 5\n",
    "\n",
    "# mean sum of square between sample(mssb)\n",
    "mssb = ssb/dfb\n",
    "\n",
    "# mean sum of square within sample(msse)\n",
    "msse = sse/dfe\n",
    "\n",
    "print({'mssb:':mssb}, {'msse:':msse})"
   ]
  },
  {
   "cell_type": "code",
   "execution_count": 10,
   "id": "5a32e190",
   "metadata": {},
   "outputs": [
    {
     "name": "stdout",
     "output_type": "stream",
     "text": [
      "f statistics: 4.829384873702848\n"
     ]
    }
   ],
   "source": [
    "# f statistics\n",
    "\n",
    "F = mssb/msse\n",
    "\n",
    "print(f\"f statistics: {F}\")"
   ]
  },
  {
   "cell_type": "code",
   "execution_count": 11,
   "id": "6ab19a62",
   "metadata": {},
   "outputs": [
    {
     "name": "stdout",
     "output_type": "stream",
     "text": [
      "critical value: 2.408514119499335\n"
     ]
    }
   ],
   "source": [
    "# critical value\n",
    "\n",
    "critical_value = f.ppf(q=0.95, dfn=dfb, dfd=dfe)\n",
    "\n",
    "print(f\"critical value: {critical_value}\")"
   ]
  },
  {
   "cell_type": "code",
   "execution_count": 12,
   "id": "b8393ef5",
   "metadata": {},
   "outputs": [
    {
     "name": "stdout",
     "output_type": "stream",
     "text": [
      "p value: 0.0011745514145032887\n"
     ]
    }
   ],
   "source": [
    "# p-value\n",
    "\n",
    "p_value = 1-f.cdf(F, dfn=dfb, dfd=dfe)\n",
    "\n",
    "print(f\"p value: {p_value}\")"
   ]
  },
  {
   "cell_type": "code",
   "execution_count": 13,
   "id": "62b027d7",
   "metadata": {},
   "outputs": [
    {
     "name": "stdout",
     "output_type": "stream",
     "text": [
      "Reject Null Hypothesis\n",
      "Reject Null Hypothesis\n"
     ]
    }
   ],
   "source": [
    "# based on critical value\n",
    "if F > critical_value:\n",
    "    print('Reject Null Hypothesis')\n",
    "else:\n",
    "    print('Accept Null Hypothesis')\n",
    "    \n",
    "# based on p value\n",
    "if p_value>0.05:\n",
    "    print(\"Accept Null Hypothesis\")\n",
    "else:\n",
    "    print('Reject Null Hypothesis')"
   ]
  },
  {
   "cell_type": "markdown",
   "id": "b2bf4873",
   "metadata": {},
   "source": [
    "### from scipy library:"
   ]
  },
  {
   "cell_type": "code",
   "execution_count": 14,
   "id": "dbec48a6",
   "metadata": {},
   "outputs": [
    {
     "data": {
      "text/plain": [
       "F_onewayResult(statistic=4.8293848737024, pvalue=0.001174551414504048)"
      ]
     },
     "execution_count": 14,
     "metadata": {},
     "output_type": "execute_result"
    }
   ],
   "source": [
    "f_oneway(*df.values.T)"
   ]
  },
  {
   "cell_type": "code",
   "execution_count": 15,
   "id": "4cd20e5f",
   "metadata": {
    "scrolled": true
   },
   "outputs": [
    {
     "data": {
      "text/plain": [
       "array([[13.75, 13.75, 13.5 , 13.5 , 13.  , 13.  , 13.  , 12.75, 12.5 ],\n",
       "       [14.25, 13.  , 12.75, 12.5 , 12.5 , 12.4 , 12.3 , 11.9 , 11.9 ],\n",
       "       [14.  , 14.  , 13.51, 13.5 , 13.5 , 13.25, 13.  , 12.5 , 12.5 ],\n",
       "       [15.  , 14.  , 13.75, 13.59, 13.25, 12.97, 12.5 , 12.25, 11.89],\n",
       "       [14.5 , 14.  , 14.  , 13.9 , 13.75, 13.25, 13.  , 12.5 , 12.45],\n",
       "       [13.5 , 12.25, 12.25, 12.  , 12.  , 12.  , 12.  , 11.9 , 11.9 ]])"
      ]
     },
     "execution_count": 15,
     "metadata": {},
     "output_type": "execute_result"
    }
   ],
   "source": [
    "df.values.T"
   ]
  },
  {
   "cell_type": "markdown",
   "id": "1595dcbb",
   "metadata": {},
   "source": [
    "# Two way ANOVA:"
   ]
  },
  {
   "cell_type": "code",
   "execution_count": 16,
   "id": "9317dc3e",
   "metadata": {},
   "outputs": [],
   "source": [
    "# New drug types introduced to cure the high blood pressure.The dataset shows the reduction in blood pressure for particular\n",
    "# drug category on male and female.\n",
    "# we want to analyse that either drug type or gender type has made an impact on blood pressure reduction or not."
   ]
  },
  {
   "cell_type": "code",
   "execution_count": 17,
   "id": "1e23c108",
   "metadata": {},
   "outputs": [
    {
     "data": {
      "text/html": [
       "<div>\n",
       "<style scoped>\n",
       "    .dataframe tbody tr th:only-of-type {\n",
       "        vertical-align: middle;\n",
       "    }\n",
       "\n",
       "    .dataframe tbody tr th {\n",
       "        vertical-align: top;\n",
       "    }\n",
       "\n",
       "    .dataframe thead th {\n",
       "        text-align: right;\n",
       "    }\n",
       "</style>\n",
       "<table border=\"1\" class=\"dataframe\">\n",
       "  <thead>\n",
       "    <tr style=\"text-align: right;\">\n",
       "      <th></th>\n",
       "      <th>drug</th>\n",
       "      <th>gender</th>\n",
       "      <th>reduce_bp</th>\n",
       "    </tr>\n",
       "  </thead>\n",
       "  <tbody>\n",
       "    <tr>\n",
       "      <th>0</th>\n",
       "      <td>A</td>\n",
       "      <td>male</td>\n",
       "      <td>6</td>\n",
       "    </tr>\n",
       "    <tr>\n",
       "      <th>1</th>\n",
       "      <td>A</td>\n",
       "      <td>male</td>\n",
       "      <td>4</td>\n",
       "    </tr>\n",
       "    <tr>\n",
       "      <th>2</th>\n",
       "      <td>A</td>\n",
       "      <td>male</td>\n",
       "      <td>7</td>\n",
       "    </tr>\n",
       "    <tr>\n",
       "      <th>3</th>\n",
       "      <td>A</td>\n",
       "      <td>male</td>\n",
       "      <td>9</td>\n",
       "    </tr>\n",
       "    <tr>\n",
       "      <th>4</th>\n",
       "      <td>A</td>\n",
       "      <td>male</td>\n",
       "      <td>3</td>\n",
       "    </tr>\n",
       "  </tbody>\n",
       "</table>\n",
       "</div>"
      ],
      "text/plain": [
       "  drug gender  reduce_bp\n",
       "0    A   male          6\n",
       "1    A   male          4\n",
       "2    A   male          7\n",
       "3    A   male          9\n",
       "4    A   male          3"
      ]
     },
     "execution_count": 17,
     "metadata": {},
     "output_type": "execute_result"
    }
   ],
   "source": [
    "df = pd.DataFrame({'drug':['A','A','A','A','A','A','A','A','A','A','B','B','B','B','B','B','B','B','B','B'],\n",
    "                  'gender':['male','male','male','male','male','female','female','female','female','female','male','male','male','male','male','female','female','female','female','female'],\n",
    "                  'reduce_bp':[6,4,7,9,3,8,3,5,8,6,4,5,6,7,5,3,5,9,2,3]})\n",
    "df.head()"
   ]
  },
  {
   "cell_type": "code",
   "execution_count": 18,
   "id": "4d48d7c4",
   "metadata": {},
   "outputs": [],
   "source": [
    "# first hypothesis\n",
    "## null hypothesis: there is no significant effect of drug type on blood pressure reduction\n",
    "## alternate hypothesis: there is significant effect of drug type on blood pressure reduction\n",
    "\n",
    "# second hypothesis\n",
    "## null hypothesis: there is no significant effect of gender on blood pressure reduction\n",
    "## alternate hypothesis: there is significant effect of gender on blood pressure reduction"
   ]
  },
  {
   "cell_type": "markdown",
   "id": "ae92e718",
   "metadata": {},
   "source": [
    "## Manual Calculations:"
   ]
  },
  {
   "cell_type": "code",
   "execution_count": 19,
   "id": "80c1c578",
   "metadata": {},
   "outputs": [],
   "source": [
    "categorical_column = ['drug','gender']\n",
    "numeric_column = ['reduce_bp']"
   ]
  },
  {
   "cell_type": "code",
   "execution_count": 20,
   "id": "65c27927",
   "metadata": {},
   "outputs": [
    {
     "name": "stdout",
     "output_type": "stream",
     "text": [
      "number of datapoints in each category: 5\n"
     ]
    }
   ],
   "source": [
    "n = df.groupby(categorical_column).size().reset_index().iloc[0,-1]\n",
    "print(f\"number of datapoints in each category: {n}\")"
   ]
  },
  {
   "cell_type": "code",
   "execution_count": 21,
   "id": "8e5400fa",
   "metadata": {},
   "outputs": [
    {
     "data": {
      "text/html": [
       "<div>\n",
       "<style scoped>\n",
       "    .dataframe tbody tr th:only-of-type {\n",
       "        vertical-align: middle;\n",
       "    }\n",
       "\n",
       "    .dataframe tbody tr th {\n",
       "        vertical-align: top;\n",
       "    }\n",
       "\n",
       "    .dataframe thead th {\n",
       "        text-align: right;\n",
       "    }\n",
       "</style>\n",
       "<table border=\"1\" class=\"dataframe\">\n",
       "  <thead>\n",
       "    <tr style=\"text-align: right;\">\n",
       "      <th>gender</th>\n",
       "      <th>female</th>\n",
       "      <th>male</th>\n",
       "      <th>All</th>\n",
       "    </tr>\n",
       "    <tr>\n",
       "      <th>drug</th>\n",
       "      <th></th>\n",
       "      <th></th>\n",
       "      <th></th>\n",
       "    </tr>\n",
       "  </thead>\n",
       "  <tbody>\n",
       "    <tr>\n",
       "      <th>A</th>\n",
       "      <td>6.0</td>\n",
       "      <td>5.8</td>\n",
       "      <td>5.9</td>\n",
       "    </tr>\n",
       "    <tr>\n",
       "      <th>B</th>\n",
       "      <td>4.4</td>\n",
       "      <td>5.4</td>\n",
       "      <td>4.9</td>\n",
       "    </tr>\n",
       "    <tr>\n",
       "      <th>All</th>\n",
       "      <td>5.2</td>\n",
       "      <td>5.6</td>\n",
       "      <td>5.4</td>\n",
       "    </tr>\n",
       "  </tbody>\n",
       "</table>\n",
       "</div>"
      ],
      "text/plain": [
       "gender  female  male  All\n",
       "drug                     \n",
       "A          6.0   5.8  5.9\n",
       "B          4.4   5.4  4.9\n",
       "All        5.2   5.6  5.4"
      ]
     },
     "execution_count": 21,
     "metadata": {},
     "output_type": "execute_result"
    }
   ],
   "source": [
    "crosstab = pd.crosstab(index=df[categorical_column[0]], columns=df[categorical_column[1]],\\\n",
    "                       values=df[numeric_column], aggfunc='mean', margins=True)\n",
    "crosstab"
   ]
  },
  {
   "cell_type": "code",
   "execution_count": 22,
   "id": "0bcc8c0a",
   "metadata": {},
   "outputs": [
    {
     "name": "stdout",
     "output_type": "stream",
     "text": [
      "number of categories in group A = 2\n",
      "number of categories in group B = 2\n"
     ]
    }
   ],
   "source": [
    "p = df[categorical_column[1]].nunique()\n",
    "q = df[categorical_column[0]].nunique()\n",
    "print(f\"number of categories in group A = {p}\")\n",
    "print(f\"number of categories in group B = {q}\")"
   ]
  },
  {
   "cell_type": "code",
   "execution_count": 23,
   "id": "ba6c8a39",
   "metadata": {},
   "outputs": [],
   "source": [
    "column_mean = crosstab.iloc[-1,0:-1].values\n",
    "row_mean = crosstab.iloc[0:-1,-1].values\n",
    "mean = crosstab.iloc[-1,-1] # overall mean"
   ]
  },
  {
   "cell_type": "code",
   "execution_count": 24,
   "id": "1a92dd0d",
   "metadata": {},
   "outputs": [
    {
     "name": "stdout",
     "output_type": "stream",
     "text": [
      "{'ssbw:': 7.599999999999996} {'dfbw:': 3}\n"
     ]
    }
   ],
   "source": [
    "# sum of square between sample:\n",
    "ssbw = n*((crosstab.iloc[0:-1,0:-1]-mean)**2).values.sum()\n",
    "\n",
    "# degree of freedom: dfb = (c-1)*(r-1)-1\n",
    "dfbw = p*q-1\n",
    "\n",
    "print({'ssbw:':ssbw}, {'dfbw:':dfbw})"
   ]
  },
  {
   "cell_type": "code",
   "execution_count": 25,
   "id": "e676fbb1",
   "metadata": {},
   "outputs": [
    {
     "name": "stdout",
     "output_type": "stream",
     "text": [
      "{'ssa:': 0.7999999999999979} {'dfa:': 1}\n"
     ]
    }
   ],
   "source": [
    "# sum of square for category A: column\n",
    "ssa = n*q*np.sum((column_mean-mean)**2)\n",
    "\n",
    "# degree of freedom: dfc = c - 1\n",
    "dfa = p-1\n",
    "\n",
    "print({'ssa:':ssa}, {'dfa:':dfa})"
   ]
  },
  {
   "cell_type": "code",
   "execution_count": 26,
   "id": "fd6e75c4",
   "metadata": {},
   "outputs": [
    {
     "name": "stdout",
     "output_type": "stream",
     "text": [
      "{'ssb:': 5.0} {'dfb:': 1}\n"
     ]
    }
   ],
   "source": [
    "# sum of square for category B: row\n",
    "ssb = n*p*np.sum((row_mean-mean)**2)\n",
    "\n",
    "# degree of freedom: dfr = r - 1\n",
    "dfb = q-1\n",
    "\n",
    "print({'ssb:':ssb}, {'dfb:':dfb})"
   ]
  },
  {
   "cell_type": "code",
   "execution_count": 27,
   "id": "97d95620",
   "metadata": {},
   "outputs": [
    {
     "name": "stdout",
     "output_type": "stream",
     "text": [
      "{'ssab:': 1.799999999999998} {'dfab:': 1}\n"
     ]
    }
   ],
   "source": [
    "# sum square within sample: interaction\n",
    "ssab = ssbw - ssa - ssb\n",
    "\n",
    "# degree of freedom: dfe = (c-1)*(r-1) -- c & r from crosstab\n",
    "dfab = (p-1)*(q-1)\n",
    "\n",
    "print({'ssab:':ssab}, {'dfab:':dfab})"
   ]
  },
  {
   "cell_type": "code",
   "execution_count": 28,
   "id": "0c9feec5",
   "metadata": {},
   "outputs": [
    {
     "name": "stdout",
     "output_type": "stream",
     "text": [
      "{'sst:': 84.80000000000001} {'dft:': 19}\n"
     ]
    }
   ],
   "source": [
    "# sum of square total:\n",
    "sst = ((df[numeric_column]-mean)**2).values.sum()\n",
    "\n",
    "# degree of freedom: dfb = (c-1)*(r-1)-1 -- c & r from crosstab\n",
    "dft = n*p*q-1\n",
    "\n",
    "print({'sst:':sst}, {'dft:':dft})"
   ]
  },
  {
   "cell_type": "code",
   "execution_count": 29,
   "id": "56c7fea8",
   "metadata": {},
   "outputs": [
    {
     "name": "stdout",
     "output_type": "stream",
     "text": [
      "Column categories: ['male' 'female']\n",
      "Row categories: ['A' 'B']\n"
     ]
    }
   ],
   "source": [
    "# sum of square error:\n",
    "cat_A = df[categorical_column[1]].unique()\n",
    "cat_B = df[categorical_column[0]].unique()\n",
    "print(f\"Column categories: {cat_A}\")\n",
    "print(f\"Row categories: {cat_B}\")"
   ]
  },
  {
   "cell_type": "code",
   "execution_count": 30,
   "id": "87bae1b7",
   "metadata": {},
   "outputs": [
    {
     "name": "stdout",
     "output_type": "stream",
     "text": [
      "{'sse:': 77.2} {'dfe:': 16}\n"
     ]
    }
   ],
   "source": [
    "sse = 0\n",
    "for i in cat_A:\n",
    "    for j in cat_B:\n",
    "        data = df[(df[categorical_column[1]]==i)&(df[categorical_column[0]]==j)]\n",
    "        data_mean = data[numeric_column].mean()\n",
    "        sse+= ((data[numeric_column]-data_mean)**2).values.sum()\n",
    "        \n",
    "# degree of freedom: dfe\n",
    "dfe = (n-1)*p*q\n",
    "\n",
    "print({'sse:':sse}, {'dfe:':dfe})"
   ]
  },
  {
   "cell_type": "code",
   "execution_count": 31,
   "id": "587dd06f",
   "metadata": {},
   "outputs": [
    {
     "name": "stdout",
     "output_type": "stream",
     "text": [
      "{'mssa:': 0.7999999999999979} {'mssb:': 5.0} {'mssab:': 1.799999999999998} {'msse:': 4.825}\n"
     ]
    }
   ],
   "source": [
    "# mean sum of square for category A: column\n",
    "mssa = ssa/dfa\n",
    "\n",
    "# mean sum of square for category B: row\n",
    "mssb = ssb/dfb\n",
    "\n",
    "# mean sum of square interaction\n",
    "mssab = ssab/dfab\n",
    "\n",
    "# mean sum of square error\n",
    "msse =sse/dfe\n",
    "\n",
    "print({'mssa:':mssa}, {'mssb:':mssb},{'mssab:':mssab}, {'msse:':msse})"
   ]
  },
  {
   "cell_type": "code",
   "execution_count": 32,
   "id": "3fc60d73",
   "metadata": {},
   "outputs": [
    {
     "name": "stdout",
     "output_type": "stream",
     "text": [
      "{'F_A:': 0.16580310880828972} {'F_B:': 1.0362694300518134} {'F_AB:': 0.37305699481865245}\n"
     ]
    }
   ],
   "source": [
    "F_A = mssa/msse\n",
    "F_B = mssb/msse\n",
    "F_AB = mssab/msse\n",
    "\n",
    "print({'F_A:':F_A}, {'F_B:':F_B},{'F_AB:':F_AB})"
   ]
  },
  {
   "cell_type": "code",
   "execution_count": 33,
   "id": "10f0d63c",
   "metadata": {},
   "outputs": [
    {
     "name": "stdout",
     "output_type": "stream",
     "text": [
      "{'p_a:': 0.6892646297178505} {'p_b:': 0.3238375983492294} {'p_ab:': 0.5499215848880679}\n"
     ]
    }
   ],
   "source": [
    "p_a = 1-f.cdf(F_A, dfn=dfa, dfd=dfe)\n",
    "p_b = 1-f.cdf(F_B, dfn=dfb, dfd=dfe)\n",
    "p_ab = 1-f.cdf(F_AB, dfn=dfab, dfd=dfe)\n",
    "\n",
    "print({'p_a:':p_a}, {'p_b:':p_b},{'p_ab:':p_ab})"
   ]
  },
  {
   "cell_type": "code",
   "execution_count": 34,
   "id": "d75d1360",
   "metadata": {},
   "outputs": [
    {
     "name": "stdout",
     "output_type": "stream",
     "text": [
      "gender has no significant effect on blood pressure reduction\n",
      "drug has no significant effect on blood pressure reduction\n",
      "gender + drug has no significant effect on blood pressure reduction\n"
     ]
    }
   ],
   "source": [
    "confidence_level = 0.95\n",
    "significance_level = 1 - confidence_level\n",
    "\n",
    "# checking first hypothesis:\n",
    "if p_a<significance_level:\n",
    "    print(f\"{categorical_column[1]} has significant effect on blood pressure reduction\")\n",
    "else:\n",
    "    print(f\"{categorical_column[1]} has no significant effect on blood pressure reduction\")\n",
    "    \n",
    "# checking other hypothesis:\n",
    "if p_b<significance_level:\n",
    "    print(f\"{categorical_column[0]} has significant effect on blood pressure reduction\")\n",
    "else:\n",
    "    print(f\"{categorical_column[0]} has no significant effect on blood pressure reduction\")\n",
    "    \n",
    "# checking hypothesis for interaction of both the categories\n",
    "if p_ab<significance_level:\n",
    "    print(f\"{categorical_column[1]} + {categorical_column[0]} has significant effect on blood pressure reduction\")\n",
    "else:\n",
    "    print(f\"{categorical_column[1]} + {categorical_column[0]} has no significant effect on blood pressure reduction\")"
   ]
  },
  {
   "cell_type": "markdown",
   "id": "1751ebce",
   "metadata": {},
   "source": [
    "## Using statsmodels: "
   ]
  },
  {
   "cell_type": "code",
   "execution_count": 35,
   "id": "2e6634b5",
   "metadata": {},
   "outputs": [],
   "source": [
    "from statsmodels.formula.api import ols\n",
    "from statsmodels.stats.anova import anova_lm"
   ]
  },
  {
   "cell_type": "code",
   "execution_count": 36,
   "id": "e488a811",
   "metadata": {},
   "outputs": [],
   "source": [
    "model = ols('reduce_bp~gender+drug+drug*gender', data=df).fit()"
   ]
  },
  {
   "cell_type": "code",
   "execution_count": 37,
   "id": "16110b37",
   "metadata": {},
   "outputs": [
    {
     "data": {
      "text/html": [
       "<div>\n",
       "<style scoped>\n",
       "    .dataframe tbody tr th:only-of-type {\n",
       "        vertical-align: middle;\n",
       "    }\n",
       "\n",
       "    .dataframe tbody tr th {\n",
       "        vertical-align: top;\n",
       "    }\n",
       "\n",
       "    .dataframe thead th {\n",
       "        text-align: right;\n",
       "    }\n",
       "</style>\n",
       "<table border=\"1\" class=\"dataframe\">\n",
       "  <thead>\n",
       "    <tr style=\"text-align: right;\">\n",
       "      <th></th>\n",
       "      <th>df</th>\n",
       "      <th>sum_sq</th>\n",
       "      <th>mean_sq</th>\n",
       "      <th>F</th>\n",
       "      <th>PR(&gt;F)</th>\n",
       "    </tr>\n",
       "  </thead>\n",
       "  <tbody>\n",
       "    <tr>\n",
       "      <th>gender</th>\n",
       "      <td>1.0</td>\n",
       "      <td>0.8</td>\n",
       "      <td>0.800</td>\n",
       "      <td>0.165803</td>\n",
       "      <td>0.689265</td>\n",
       "    </tr>\n",
       "    <tr>\n",
       "      <th>drug</th>\n",
       "      <td>1.0</td>\n",
       "      <td>5.0</td>\n",
       "      <td>5.000</td>\n",
       "      <td>1.036269</td>\n",
       "      <td>0.323838</td>\n",
       "    </tr>\n",
       "    <tr>\n",
       "      <th>drug:gender</th>\n",
       "      <td>1.0</td>\n",
       "      <td>1.8</td>\n",
       "      <td>1.800</td>\n",
       "      <td>0.373057</td>\n",
       "      <td>0.549922</td>\n",
       "    </tr>\n",
       "    <tr>\n",
       "      <th>Residual</th>\n",
       "      <td>16.0</td>\n",
       "      <td>77.2</td>\n",
       "      <td>4.825</td>\n",
       "      <td>NaN</td>\n",
       "      <td>NaN</td>\n",
       "    </tr>\n",
       "  </tbody>\n",
       "</table>\n",
       "</div>"
      ],
      "text/plain": [
       "               df  sum_sq  mean_sq         F    PR(>F)\n",
       "gender        1.0     0.8    0.800  0.165803  0.689265\n",
       "drug          1.0     5.0    5.000  1.036269  0.323838\n",
       "drug:gender   1.0     1.8    1.800  0.373057  0.549922\n",
       "Residual     16.0    77.2    4.825       NaN       NaN"
      ]
     },
     "execution_count": 37,
     "metadata": {},
     "output_type": "execute_result"
    }
   ],
   "source": [
    "anova_lm(model)"
   ]
  },
  {
   "cell_type": "code",
   "execution_count": null,
   "id": "8fce368e",
   "metadata": {},
   "outputs": [],
   "source": []
  }
 ],
 "metadata": {
  "kernelspec": {
   "display_name": "Python 3 (ipykernel)",
   "language": "python",
   "name": "python3"
  },
  "language_info": {
   "codemirror_mode": {
    "name": "ipython",
    "version": 3
   },
   "file_extension": ".py",
   "mimetype": "text/x-python",
   "name": "python",
   "nbconvert_exporter": "python",
   "pygments_lexer": "ipython3",
   "version": "3.11.5"
  }
 },
 "nbformat": 4,
 "nbformat_minor": 5
}
