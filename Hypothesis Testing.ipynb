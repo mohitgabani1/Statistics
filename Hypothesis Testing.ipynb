{
 "cells": [
  {
   "cell_type": "code",
   "execution_count": 1,
   "id": "5014425a",
   "metadata": {},
   "outputs": [],
   "source": [
    "import numpy as np\n",
    "import pandas as pd\n",
    "from scipy.stats import *\n",
    "import random\n",
    "import seaborn as sns"
   ]
  },
  {
   "cell_type": "code",
   "execution_count": 2,
   "id": "2e0e23d8",
   "metadata": {},
   "outputs": [],
   "source": [
    "df = pd.read_csv(r'C:\\Users\\mohit\\Downloads\\ML Datasets\\titanic.csv')"
   ]
  },
  {
   "cell_type": "code",
   "execution_count": 3,
   "id": "bfe4845c",
   "metadata": {},
   "outputs": [
    {
     "data": {
      "text/html": [
       "<div>\n",
       "<style scoped>\n",
       "    .dataframe tbody tr th:only-of-type {\n",
       "        vertical-align: middle;\n",
       "    }\n",
       "\n",
       "    .dataframe tbody tr th {\n",
       "        vertical-align: top;\n",
       "    }\n",
       "\n",
       "    .dataframe thead th {\n",
       "        text-align: right;\n",
       "    }\n",
       "</style>\n",
       "<table border=\"1\" class=\"dataframe\">\n",
       "  <thead>\n",
       "    <tr style=\"text-align: right;\">\n",
       "      <th></th>\n",
       "      <th>PassengerId</th>\n",
       "      <th>Survived</th>\n",
       "      <th>Pclass</th>\n",
       "      <th>Name</th>\n",
       "      <th>Sex</th>\n",
       "      <th>Age</th>\n",
       "      <th>SibSp</th>\n",
       "      <th>Parch</th>\n",
       "      <th>Ticket</th>\n",
       "      <th>Fare</th>\n",
       "      <th>Cabin</th>\n",
       "      <th>Embarked</th>\n",
       "    </tr>\n",
       "  </thead>\n",
       "  <tbody>\n",
       "    <tr>\n",
       "      <th>0</th>\n",
       "      <td>1</td>\n",
       "      <td>0</td>\n",
       "      <td>3</td>\n",
       "      <td>Braund, Mr. Owen Harris</td>\n",
       "      <td>male</td>\n",
       "      <td>22.0</td>\n",
       "      <td>1</td>\n",
       "      <td>0</td>\n",
       "      <td>A/5 21171</td>\n",
       "      <td>7.2500</td>\n",
       "      <td>NaN</td>\n",
       "      <td>S</td>\n",
       "    </tr>\n",
       "    <tr>\n",
       "      <th>1</th>\n",
       "      <td>2</td>\n",
       "      <td>1</td>\n",
       "      <td>1</td>\n",
       "      <td>Cumings, Mrs. John Bradley (Florence Briggs Th...</td>\n",
       "      <td>female</td>\n",
       "      <td>38.0</td>\n",
       "      <td>1</td>\n",
       "      <td>0</td>\n",
       "      <td>PC 17599</td>\n",
       "      <td>71.2833</td>\n",
       "      <td>C85</td>\n",
       "      <td>C</td>\n",
       "    </tr>\n",
       "    <tr>\n",
       "      <th>2</th>\n",
       "      <td>3</td>\n",
       "      <td>1</td>\n",
       "      <td>3</td>\n",
       "      <td>Heikkinen, Miss. Laina</td>\n",
       "      <td>female</td>\n",
       "      <td>26.0</td>\n",
       "      <td>0</td>\n",
       "      <td>0</td>\n",
       "      <td>STON/O2. 3101282</td>\n",
       "      <td>7.9250</td>\n",
       "      <td>NaN</td>\n",
       "      <td>S</td>\n",
       "    </tr>\n",
       "    <tr>\n",
       "      <th>3</th>\n",
       "      <td>4</td>\n",
       "      <td>1</td>\n",
       "      <td>1</td>\n",
       "      <td>Futrelle, Mrs. Jacques Heath (Lily May Peel)</td>\n",
       "      <td>female</td>\n",
       "      <td>35.0</td>\n",
       "      <td>1</td>\n",
       "      <td>0</td>\n",
       "      <td>113803</td>\n",
       "      <td>53.1000</td>\n",
       "      <td>C123</td>\n",
       "      <td>S</td>\n",
       "    </tr>\n",
       "    <tr>\n",
       "      <th>4</th>\n",
       "      <td>5</td>\n",
       "      <td>0</td>\n",
       "      <td>3</td>\n",
       "      <td>Allen, Mr. William Henry</td>\n",
       "      <td>male</td>\n",
       "      <td>35.0</td>\n",
       "      <td>0</td>\n",
       "      <td>0</td>\n",
       "      <td>373450</td>\n",
       "      <td>8.0500</td>\n",
       "      <td>NaN</td>\n",
       "      <td>S</td>\n",
       "    </tr>\n",
       "  </tbody>\n",
       "</table>\n",
       "</div>"
      ],
      "text/plain": [
       "   PassengerId  Survived  Pclass  \\\n",
       "0            1         0       3   \n",
       "1            2         1       1   \n",
       "2            3         1       3   \n",
       "3            4         1       1   \n",
       "4            5         0       3   \n",
       "\n",
       "                                                Name     Sex   Age  SibSp  \\\n",
       "0                            Braund, Mr. Owen Harris    male  22.0      1   \n",
       "1  Cumings, Mrs. John Bradley (Florence Briggs Th...  female  38.0      1   \n",
       "2                             Heikkinen, Miss. Laina  female  26.0      0   \n",
       "3       Futrelle, Mrs. Jacques Heath (Lily May Peel)  female  35.0      1   \n",
       "4                           Allen, Mr. William Henry    male  35.0      0   \n",
       "\n",
       "   Parch            Ticket     Fare Cabin Embarked  \n",
       "0      0         A/5 21171   7.2500   NaN        S  \n",
       "1      0          PC 17599  71.2833   C85        C  \n",
       "2      0  STON/O2. 3101282   7.9250   NaN        S  \n",
       "3      0            113803  53.1000  C123        S  \n",
       "4      0            373450   8.0500   NaN        S  "
      ]
     },
     "execution_count": 3,
     "metadata": {},
     "output_type": "execute_result"
    }
   ],
   "source": [
    "df.head()"
   ]
  },
  {
   "cell_type": "code",
   "execution_count": 4,
   "id": "ad89ffd5",
   "metadata": {},
   "outputs": [
    {
     "data": {
      "text/plain": [
       "PassengerId      0\n",
       "Survived         0\n",
       "Pclass           0\n",
       "Name             0\n",
       "Sex              0\n",
       "Age            177\n",
       "SibSp            0\n",
       "Parch            0\n",
       "Ticket           0\n",
       "Fare             0\n",
       "Cabin          687\n",
       "Embarked         2\n",
       "dtype: int64"
      ]
     },
     "execution_count": 4,
     "metadata": {},
     "output_type": "execute_result"
    }
   ],
   "source": [
    "df.isnull().sum()"
   ]
  },
  {
   "cell_type": "code",
   "execution_count": 5,
   "id": "81dcedc6",
   "metadata": {},
   "outputs": [
    {
     "data": {
      "text/plain": [
       "(891, 12)"
      ]
     },
     "execution_count": 5,
     "metadata": {},
     "output_type": "execute_result"
    }
   ],
   "source": [
    "df.shape"
   ]
  },
  {
   "cell_type": "markdown",
   "id": "2ea5202a",
   "metadata": {},
   "source": [
    "# Chi square test:"
   ]
  },
  {
   "cell_type": "code",
   "execution_count": 6,
   "id": "987c7c0a",
   "metadata": {},
   "outputs": [],
   "source": [
    "d = df.copy()"
   ]
  },
  {
   "cell_type": "code",
   "execution_count": 7,
   "id": "bb8a510a",
   "metadata": {},
   "outputs": [],
   "source": [
    "d['Survived'] = np.where(d['Survived']==1, \"survived\", \"not survived\")"
   ]
  },
  {
   "cell_type": "code",
   "execution_count": 8,
   "id": "c5370606",
   "metadata": {},
   "outputs": [],
   "source": [
    "ct = pd.crosstab(d['Pclass'], d['Embarked'])"
   ]
  },
  {
   "cell_type": "code",
   "execution_count": 9,
   "id": "015bf217",
   "metadata": {},
   "outputs": [
    {
     "data": {
      "text/html": [
       "<div>\n",
       "<style scoped>\n",
       "    .dataframe tbody tr th:only-of-type {\n",
       "        vertical-align: middle;\n",
       "    }\n",
       "\n",
       "    .dataframe tbody tr th {\n",
       "        vertical-align: top;\n",
       "    }\n",
       "\n",
       "    .dataframe thead th {\n",
       "        text-align: right;\n",
       "    }\n",
       "</style>\n",
       "<table border=\"1\" class=\"dataframe\">\n",
       "  <thead>\n",
       "    <tr style=\"text-align: right;\">\n",
       "      <th>Embarked</th>\n",
       "      <th>C</th>\n",
       "      <th>Q</th>\n",
       "      <th>S</th>\n",
       "    </tr>\n",
       "    <tr>\n",
       "      <th>Pclass</th>\n",
       "      <th></th>\n",
       "      <th></th>\n",
       "      <th></th>\n",
       "    </tr>\n",
       "  </thead>\n",
       "  <tbody>\n",
       "    <tr>\n",
       "      <th>1</th>\n",
       "      <td>85</td>\n",
       "      <td>2</td>\n",
       "      <td>127</td>\n",
       "    </tr>\n",
       "    <tr>\n",
       "      <th>2</th>\n",
       "      <td>17</td>\n",
       "      <td>3</td>\n",
       "      <td>164</td>\n",
       "    </tr>\n",
       "    <tr>\n",
       "      <th>3</th>\n",
       "      <td>66</td>\n",
       "      <td>72</td>\n",
       "      <td>353</td>\n",
       "    </tr>\n",
       "  </tbody>\n",
       "</table>\n",
       "</div>"
      ],
      "text/plain": [
       "Embarked   C   Q    S\n",
       "Pclass               \n",
       "1         85   2  127\n",
       "2         17   3  164\n",
       "3         66  72  353"
      ]
     },
     "execution_count": 9,
     "metadata": {},
     "output_type": "execute_result"
    }
   ],
   "source": [
    "ct"
   ]
  },
  {
   "cell_type": "code",
   "execution_count": 10,
   "id": "279881e7",
   "metadata": {},
   "outputs": [
    {
     "data": {
      "text/plain": [
       "Chi2ContingencyResult(statistic=123.75190952951289, pvalue=8.435267819894384e-26, dof=4, expected_freq=array([[ 40.44094488,  18.53543307, 155.02362205],\n",
       "       [ 34.77165354,  15.93700787, 133.29133858],\n",
       "       [ 92.78740157,  42.52755906, 355.68503937]]))"
      ]
     },
     "execution_count": 10,
     "metadata": {},
     "output_type": "execute_result"
    }
   ],
   "source": [
    "chi2_contingency(ct)"
   ]
  },
  {
   "cell_type": "code",
   "execution_count": 11,
   "id": "a4277413",
   "metadata": {},
   "outputs": [
    {
     "data": {
      "text/plain": [
       "0.0"
      ]
     },
     "execution_count": 11,
     "metadata": {},
     "output_type": "execute_result"
    }
   ],
   "source": [
    "1-chi2.cdf(260.71702016732104, df=1)"
   ]
  },
  {
   "cell_type": "code",
   "execution_count": 12,
   "id": "8a0d3ded",
   "metadata": {},
   "outputs": [],
   "source": [
    "no_rows = len(ct.iloc[:,0])"
   ]
  },
  {
   "cell_type": "code",
   "execution_count": 13,
   "id": "da4408a1",
   "metadata": {},
   "outputs": [],
   "source": [
    "no_cols = len(ct.iloc[0,:])"
   ]
  },
  {
   "cell_type": "code",
   "execution_count": 14,
   "id": "f9c5647a",
   "metadata": {},
   "outputs": [
    {
     "name": "stdout",
     "output_type": "stream",
     "text": [
      "3 3\n"
     ]
    }
   ],
   "source": [
    "print(no_rows,no_cols)"
   ]
  },
  {
   "cell_type": "code",
   "execution_count": 15,
   "id": "74b4a70f",
   "metadata": {},
   "outputs": [],
   "source": [
    "freedom = (no_rows-1)*(no_cols-1)"
   ]
  },
  {
   "cell_type": "code",
   "execution_count": 16,
   "id": "5685f6fb",
   "metadata": {},
   "outputs": [
    {
     "data": {
      "text/plain": [
       "4"
      ]
     },
     "execution_count": 16,
     "metadata": {},
     "output_type": "execute_result"
    }
   ],
   "source": [
    "freedom"
   ]
  },
  {
   "cell_type": "code",
   "execution_count": 17,
   "id": "a0db516a",
   "metadata": {},
   "outputs": [],
   "source": [
    "expected = np.zeros((len(ct.iloc[:,0]),len(ct.iloc[0,:])))\n",
    "for i in range(len(ct.iloc[:,0])):\n",
    "    for j in range(len(ct.iloc[0,:])):\n",
    "        expected[i][j] = np.sum(ct.iloc[i,:])*np.sum(ct.iloc[:,j])/np.sum(ct.values)"
   ]
  },
  {
   "cell_type": "code",
   "execution_count": 18,
   "id": "786c7f7c",
   "metadata": {},
   "outputs": [
    {
     "data": {
      "text/plain": [
       "array([[ 40.44094488,  18.53543307, 155.02362205],\n",
       "       [ 34.77165354,  15.93700787, 133.29133858],\n",
       "       [ 92.78740157,  42.52755906, 355.68503937]])"
      ]
     },
     "execution_count": 18,
     "metadata": {},
     "output_type": "execute_result"
    }
   ],
   "source": [
    "expected"
   ]
  },
  {
   "cell_type": "code",
   "execution_count": 19,
   "id": "3f1254e7",
   "metadata": {},
   "outputs": [],
   "source": [
    "observed = ct.values"
   ]
  },
  {
   "cell_type": "code",
   "execution_count": 20,
   "id": "16c3eacd",
   "metadata": {},
   "outputs": [],
   "source": [
    "chi_stat = np.sum(sum([(o-e)**2/e for o,e in zip(observed,expected)]))"
   ]
  },
  {
   "cell_type": "code",
   "execution_count": 21,
   "id": "204c6c88",
   "metadata": {},
   "outputs": [
    {
     "name": "stdout",
     "output_type": "stream",
     "text": [
      "123.75190952951287\n"
     ]
    }
   ],
   "source": [
    "print(chi_stat)"
   ]
  },
  {
   "cell_type": "code",
   "execution_count": 22,
   "id": "11ceb849",
   "metadata": {},
   "outputs": [
    {
     "data": {
      "text/plain": [
       "0.7107230213973239"
      ]
     },
     "execution_count": 22,
     "metadata": {},
     "output_type": "execute_result"
    }
   ],
   "source": [
    "chi2.ppf(q = 0.05, df = 4)"
   ]
  },
  {
   "cell_type": "code",
   "execution_count": 23,
   "id": "22043404",
   "metadata": {},
   "outputs": [
    {
     "data": {
      "text/plain": [
       "0.0"
      ]
     },
     "execution_count": 23,
     "metadata": {},
     "output_type": "execute_result"
    }
   ],
   "source": [
    "1-chi2.cdf(chi_stat,df=4)"
   ]
  },
  {
   "cell_type": "markdown",
   "id": "5d54bd99",
   "metadata": {},
   "source": [
    "# t-test:"
   ]
  },
  {
   "cell_type": "code",
   "execution_count": 24,
   "id": "841c5b2b",
   "metadata": {},
   "outputs": [],
   "source": [
    "# problem statement:\n",
    "# is there difference between sample mean and population mean\n",
    "# alpha = 0.05"
   ]
  },
  {
   "cell_type": "code",
   "execution_count": 25,
   "id": "4e88edf0",
   "metadata": {},
   "outputs": [],
   "source": [
    "pop = df['Age'].dropna()"
   ]
  },
  {
   "cell_type": "code",
   "execution_count": 26,
   "id": "304a2305",
   "metadata": {},
   "outputs": [],
   "source": [
    "sample = pop.sample(25)"
   ]
  },
  {
   "cell_type": "code",
   "execution_count": 27,
   "id": "a2378c2f",
   "metadata": {},
   "outputs": [],
   "source": [
    "t_stat, p_val = ttest_1samp(sample, 35)"
   ]
  },
  {
   "cell_type": "code",
   "execution_count": 28,
   "id": "9249b489",
   "metadata": {},
   "outputs": [
    {
     "name": "stdout",
     "output_type": "stream",
     "text": [
      "t_statistics -1.7842283159205483\n",
      "p_value: 0.0870360723490897\n"
     ]
    }
   ],
   "source": [
    "print('t_statistics',t_stat) \n",
    "print('p_value:', p_val)"
   ]
  },
  {
   "cell_type": "code",
   "execution_count": 29,
   "id": "90ff6530",
   "metadata": {},
   "outputs": [
    {
     "data": {
      "text/plain": [
       "0.08703607234908972"
      ]
     },
     "execution_count": 29,
     "metadata": {},
     "output_type": "execute_result"
    }
   ],
   "source": [
    "(1-t.cdf(abs(t_stat),24))*2"
   ]
  },
  {
   "cell_type": "code",
   "execution_count": 30,
   "id": "50b2cc11",
   "metadata": {},
   "outputs": [],
   "source": [
    "sample_mean = np.mean(sample)\n",
    "sample_std = np.std(sample, ddof=1)"
   ]
  },
  {
   "cell_type": "code",
   "execution_count": 31,
   "id": "0f793490",
   "metadata": {},
   "outputs": [],
   "source": [
    "t_stat_=(sample_mean-35)*((len(sample)-1)**0.5)/sample_std"
   ]
  },
  {
   "cell_type": "code",
   "execution_count": 32,
   "id": "4db07c3a",
   "metadata": {},
   "outputs": [
    {
     "data": {
      "text/plain": [
       "-1.7481795834522749"
      ]
     },
     "execution_count": 32,
     "metadata": {},
     "output_type": "execute_result"
    }
   ],
   "source": [
    "t_stat_"
   ]
  },
  {
   "cell_type": "code",
   "execution_count": 33,
   "id": "3fa9a55f",
   "metadata": {},
   "outputs": [
    {
     "name": "stdout",
     "output_type": "stream",
     "text": [
      "2.0638985616280205\n"
     ]
    }
   ],
   "source": [
    "critical_val = t.ppf(q=1-0.05/2,df=24)\n",
    "print(critical_val)"
   ]
  },
  {
   "cell_type": "code",
   "execution_count": 34,
   "id": "d84fc086",
   "metadata": {},
   "outputs": [],
   "source": [
    "p_=(1-t.cdf(abs(t_stat_), df=24))*2"
   ]
  },
  {
   "cell_type": "code",
   "execution_count": 35,
   "id": "3cead6b4",
   "metadata": {},
   "outputs": [
    {
     "data": {
      "text/plain": [
       "0.09321591444445132"
      ]
     },
     "execution_count": 35,
     "metadata": {},
     "output_type": "execute_result"
    }
   ],
   "source": [
    "p_"
   ]
  },
  {
   "cell_type": "code",
   "execution_count": 36,
   "id": "77285f64",
   "metadata": {},
   "outputs": [
    {
     "data": {
      "text/plain": [
       "30.36"
      ]
     },
     "execution_count": 36,
     "metadata": {},
     "output_type": "execute_result"
    }
   ],
   "source": [
    "sample.mean()"
   ]
  },
  {
   "cell_type": "markdown",
   "id": "cb255f1e",
   "metadata": {},
   "source": [
    "# Confidence Interval t-test:"
   ]
  },
  {
   "cell_type": "code",
   "execution_count": 37,
   "id": "1cad270f",
   "metadata": {},
   "outputs": [],
   "source": [
    "sample_mean = sample.mean()"
   ]
  },
  {
   "cell_type": "code",
   "execution_count": 38,
   "id": "32b59c7e",
   "metadata": {},
   "outputs": [],
   "source": [
    "alpha = 0.05\n",
    "degree_freedom = len(sample)-1"
   ]
  },
  {
   "cell_type": "code",
   "execution_count": 39,
   "id": "857d068a",
   "metadata": {},
   "outputs": [],
   "source": [
    "t_critical = t.ppf(1-alpha/2, df = degree_freedom)"
   ]
  },
  {
   "cell_type": "code",
   "execution_count": 40,
   "id": "5443faa3",
   "metadata": {},
   "outputs": [],
   "source": [
    "lower_interval = sample_mean-t_critical*np.std(sample, ddof=1)/(degree_freedom**0.5)"
   ]
  },
  {
   "cell_type": "code",
   "execution_count": 41,
   "id": "8d0e1f15",
   "metadata": {},
   "outputs": [],
   "source": [
    "upper_interval = sample_mean+t_critical*np.std(sample, ddof=1)/(degree_freedom**0.5)"
   ]
  },
  {
   "cell_type": "code",
   "execution_count": 42,
   "id": "4bdfd9b2",
   "metadata": {},
   "outputs": [
    {
     "name": "stdout",
     "output_type": "stream",
     "text": [
      "CI from t_test: 24.882021984124464 < CI < 35.837978015875535\n"
     ]
    }
   ],
   "source": [
    "print(f'CI from t_test: {lower_interval} < CI < {upper_interval}')"
   ]
  },
  {
   "cell_type": "markdown",
   "id": "ee2f88fa",
   "metadata": {},
   "source": [
    "##### using scipy library: "
   ]
  },
  {
   "cell_type": "code",
   "execution_count": 43,
   "id": "7f8d3d07",
   "metadata": {},
   "outputs": [
    {
     "data": {
      "text/plain": [
       "(24.992699615568448, 35.72730038443155)"
      ]
     },
     "execution_count": 43,
     "metadata": {},
     "output_type": "execute_result"
    }
   ],
   "source": [
    "t.interval(confidence = 0.95, df=degree_freedom, loc = sample_mean, scale = sem(sample))"
   ]
  },
  {
   "cell_type": "code",
   "execution_count": 44,
   "id": "0d771f9c",
   "metadata": {},
   "outputs": [
    {
     "data": {
      "text/plain": [
       "2.600564041382818"
      ]
     },
     "execution_count": 44,
     "metadata": {},
     "output_type": "execute_result"
    }
   ],
   "source": [
    "sem(sample)"
   ]
  },
  {
   "cell_type": "code",
   "execution_count": 45,
   "id": "ae5c6d21",
   "metadata": {},
   "outputs": [
    {
     "data": {
      "text/plain": [
       "2.600564041382818"
      ]
     },
     "execution_count": 45,
     "metadata": {},
     "output_type": "execute_result"
    }
   ],
   "source": [
    "np.std(sample, ddof=1)/(len(sample)**0.5)"
   ]
  },
  {
   "cell_type": "markdown",
   "id": "bbf94116",
   "metadata": {},
   "source": [
    "# two sample t-test:"
   ]
  },
  {
   "cell_type": "code",
   "execution_count": 46,
   "id": "b113faa3",
   "metadata": {},
   "outputs": [],
   "source": [
    "s1 = [12, 15, 18, 16, 20, 17, 14, 22, 19, 21, 23, 18, 25, 17, 16, 24, 20, 19, 22, 18, 15, 14, 23, 16, 12, 21, 19, 17, 20, 14]\n",
    "s2 = [10, 12, 14, 13, 16, 15, 11, 17, 14, 16, 18, 14, 20, 15, 14, 19, 16, 15, 17, 14, 12, 11, 18, 15, 10, 16, 15, 13, 16, 11]"
   ]
  },
  {
   "cell_type": "code",
   "execution_count": 47,
   "id": "90338b41",
   "metadata": {},
   "outputs": [],
   "source": [
    "m1 = np.mean(s1)\n",
    "m2 = np.mean(s2)"
   ]
  },
  {
   "cell_type": "code",
   "execution_count": 48,
   "id": "c9d806f6",
   "metadata": {},
   "outputs": [],
   "source": [
    "sd1 = np.std(s1, ddof=1)\n",
    "sd2 = np.std(s2, ddof=1)"
   ]
  },
  {
   "cell_type": "code",
   "execution_count": 49,
   "id": "ef5b9077",
   "metadata": {},
   "outputs": [],
   "source": [
    "t2_stat = (m1-m2)/np.sqrt((sd1**2/len(s1))+(sd2**2/len(s2)))"
   ]
  },
  {
   "cell_type": "code",
   "execution_count": 50,
   "id": "e5c4de87",
   "metadata": {},
   "outputs": [
    {
     "name": "stdout",
     "output_type": "stream",
     "text": [
      "4.625335930681123\n"
     ]
    }
   ],
   "source": [
    "print(t2_stat)"
   ]
  },
  {
   "cell_type": "code",
   "execution_count": 51,
   "id": "408a0845",
   "metadata": {},
   "outputs": [
    {
     "data": {
      "text/plain": [
       "2.0017174830120923"
      ]
     },
     "execution_count": 51,
     "metadata": {},
     "output_type": "execute_result"
    }
   ],
   "source": [
    "t2_critical = t.ppf(q=1-0.05/2, df=58)\n",
    "t2_critical"
   ]
  },
  {
   "cell_type": "code",
   "execution_count": 52,
   "id": "c799355d",
   "metadata": {},
   "outputs": [],
   "source": [
    "t2_p_value = (1-t.cdf(abs(t2_stat),df=58))*2"
   ]
  },
  {
   "cell_type": "code",
   "execution_count": 53,
   "id": "151a427c",
   "metadata": {},
   "outputs": [
    {
     "name": "stdout",
     "output_type": "stream",
     "text": [
      "2.1422811335103376e-05\n"
     ]
    }
   ],
   "source": [
    "print(t2_p_value)"
   ]
  },
  {
   "cell_type": "code",
   "execution_count": 54,
   "id": "b1b91785",
   "metadata": {},
   "outputs": [
    {
     "data": {
      "text/plain": [
       "TtestResult(statistic=4.625335930681123, pvalue=2.1422811334975257e-05, df=58.0)"
      ]
     },
     "execution_count": 54,
     "metadata": {},
     "output_type": "execute_result"
    }
   ],
   "source": [
    "ttest_ind(s1,s2)"
   ]
  },
  {
   "cell_type": "markdown",
   "id": "768b20b0",
   "metadata": {},
   "source": [
    "# Confidence Interval z-test:"
   ]
  },
  {
   "cell_type": "code",
   "execution_count": 55,
   "id": "0599d6ce",
   "metadata": {},
   "outputs": [],
   "source": [
    "pop_mean = pop.mean()"
   ]
  },
  {
   "cell_type": "code",
   "execution_count": 56,
   "id": "4c630e7d",
   "metadata": {},
   "outputs": [],
   "source": [
    "pop_sd = np.std(pop)"
   ]
  },
  {
   "cell_type": "code",
   "execution_count": 57,
   "id": "83a257a3",
   "metadata": {},
   "outputs": [],
   "source": [
    "z_sample = df[df['Survived']==1]['Age'].dropna().sample(25)"
   ]
  },
  {
   "cell_type": "code",
   "execution_count": 58,
   "id": "545ec3c9",
   "metadata": {},
   "outputs": [],
   "source": [
    "z_critical = norm.ppf(q=1-alpha/2)"
   ]
  },
  {
   "cell_type": "code",
   "execution_count": 59,
   "id": "dd452597",
   "metadata": {},
   "outputs": [],
   "source": [
    "pop_lower = pop_mean-z_critical*pop_sd/np.sqrt(len(z_sample))"
   ]
  },
  {
   "cell_type": "code",
   "execution_count": 60,
   "id": "c68dcfa6",
   "metadata": {},
   "outputs": [],
   "source": [
    "pop_upper = pop_mean+z_critical*pop_sd/np.sqrt(len(z_sample))"
   ]
  },
  {
   "cell_type": "code",
   "execution_count": 61,
   "id": "91c5249b",
   "metadata": {},
   "outputs": [
    {
     "name": "stdout",
     "output_type": "stream",
     "text": [
      "CI from z-test is: 24.008824318335027 < CI < 35.38941097578262\n"
     ]
    }
   ],
   "source": [
    "print(f'CI from z-test is: {pop_lower} < CI < {pop_upper}')"
   ]
  },
  {
   "cell_type": "code",
   "execution_count": 62,
   "id": "32f5014b",
   "metadata": {},
   "outputs": [
    {
     "data": {
      "text/plain": [
       "(24.008824318335027, 35.38941097578262)"
      ]
     },
     "execution_count": 62,
     "metadata": {},
     "output_type": "execute_result"
    }
   ],
   "source": [
    "norm.interval(confidence=0.95, loc = pop_mean, scale = pop_sd/np.sqrt(len(z_sample)))"
   ]
  },
  {
   "cell_type": "markdown",
   "id": "2bdd5830",
   "metadata": {},
   "source": [
    "### z_statistic: "
   ]
  },
  {
   "cell_type": "code",
   "execution_count": 63,
   "id": "dd00bc52",
   "metadata": {},
   "outputs": [],
   "source": [
    "z_stat = (np.mean(z_sample)-pop_mean)*np.sqrt(len(z_sample))/pop_sd"
   ]
  },
  {
   "cell_type": "code",
   "execution_count": 64,
   "id": "8b6743f3",
   "metadata": {},
   "outputs": [
    {
     "data": {
      "text/plain": [
       "1.357397067754765"
      ]
     },
     "execution_count": 64,
     "metadata": {},
     "output_type": "execute_result"
    }
   ],
   "source": [
    "z_stat"
   ]
  },
  {
   "cell_type": "code",
   "execution_count": 65,
   "id": "1a3bb9bf",
   "metadata": {},
   "outputs": [
    {
     "data": {
      "text/plain": [
       "1.959963984540054"
      ]
     },
     "execution_count": 65,
     "metadata": {},
     "output_type": "execute_result"
    }
   ],
   "source": [
    "z_critical"
   ]
  },
  {
   "cell_type": "code",
   "execution_count": 66,
   "id": "bf73760b",
   "metadata": {},
   "outputs": [
    {
     "data": {
      "text/plain": [
       "0.17465507943952274"
      ]
     },
     "execution_count": 66,
     "metadata": {},
     "output_type": "execute_result"
    }
   ],
   "source": [
    "(1-norm.cdf(z_stat))*2"
   ]
  },
  {
   "cell_type": "markdown",
   "id": "2886aba5",
   "metadata": {},
   "source": [
    "# ANNOVA test:"
   ]
  },
  {
   "cell_type": "markdown",
   "id": "e3b6e379",
   "metadata": {},
   "source": [
    "#### One Way ANOVA test: "
   ]
  },
  {
   "cell_type": "code",
   "execution_count": 67,
   "id": "ded1a6f8",
   "metadata": {},
   "outputs": [],
   "source": [
    "A = np.array([8,10,12,8,7])\n",
    "B = np.array([12,11,9,14,4])\n",
    "C = np.array([18,12,16,6,8])\n",
    "D = np.array([13,9,12,16,15])"
   ]
  },
  {
   "cell_type": "code",
   "execution_count": 68,
   "id": "7bd7220f",
   "metadata": {},
   "outputs": [
    {
     "data": {
      "text/plain": [
       "F_onewayResult(statistic=1.2820512820512822, pvalue=0.3143594700488932)"
      ]
     },
     "execution_count": 68,
     "metadata": {},
     "output_type": "execute_result"
    }
   ],
   "source": [
    "f_oneway(A,B,C,D)"
   ]
  },
  {
   "cell_type": "code",
   "execution_count": 79,
   "id": "22c655a1",
   "metadata": {},
   "outputs": [
    {
     "data": {
      "text/plain": [
       "3.238871517453585"
      ]
     },
     "execution_count": 79,
     "metadata": {},
     "output_type": "execute_result"
    }
   ],
   "source": [
    "f.ppf(q=1-0.05,dfn=3,dfd=16)"
   ]
  },
  {
   "cell_type": "code",
   "execution_count": 81,
   "id": "00944ce9",
   "metadata": {},
   "outputs": [
    {
     "data": {
      "text/plain": [
       "0.3143594700488932"
      ]
     },
     "execution_count": 81,
     "metadata": {},
     "output_type": "execute_result"
    }
   ],
   "source": [
    "1-f.cdf(1.2820512820512822, dfn = 3, dfd = 16)"
   ]
  },
  {
   "cell_type": "markdown",
   "id": "69135de5",
   "metadata": {},
   "source": [
    "#### Two Way ANOVA test: "
   ]
  },
  {
   "cell_type": "code",
   "execution_count": 103,
   "id": "cfd88fe8",
   "metadata": {},
   "outputs": [],
   "source": [
    "data = {'season': ['summer', 'winter', 'monsoon'],\n",
    "        'A': [36, 28, 26],\n",
    "        'B': [36, 29, 28],\n",
    "        'C': [21, 31, 29],\n",
    "        'D': [35, 32, 29]}\n",
    "df_anova = pd.DataFrame(data)"
   ]
  },
  {
   "cell_type": "code",
   "execution_count": 104,
   "id": "4cc1dd4e",
   "metadata": {},
   "outputs": [
    {
     "data": {
      "text/html": [
       "<div>\n",
       "<style scoped>\n",
       "    .dataframe tbody tr th:only-of-type {\n",
       "        vertical-align: middle;\n",
       "    }\n",
       "\n",
       "    .dataframe tbody tr th {\n",
       "        vertical-align: top;\n",
       "    }\n",
       "\n",
       "    .dataframe thead th {\n",
       "        text-align: right;\n",
       "    }\n",
       "</style>\n",
       "<table border=\"1\" class=\"dataframe\">\n",
       "  <thead>\n",
       "    <tr style=\"text-align: right;\">\n",
       "      <th></th>\n",
       "      <th>season</th>\n",
       "      <th>A</th>\n",
       "      <th>B</th>\n",
       "      <th>C</th>\n",
       "      <th>D</th>\n",
       "    </tr>\n",
       "  </thead>\n",
       "  <tbody>\n",
       "    <tr>\n",
       "      <th>0</th>\n",
       "      <td>summer</td>\n",
       "      <td>36</td>\n",
       "      <td>36</td>\n",
       "      <td>21</td>\n",
       "      <td>35</td>\n",
       "    </tr>\n",
       "    <tr>\n",
       "      <th>1</th>\n",
       "      <td>winter</td>\n",
       "      <td>28</td>\n",
       "      <td>29</td>\n",
       "      <td>31</td>\n",
       "      <td>32</td>\n",
       "    </tr>\n",
       "    <tr>\n",
       "      <th>2</th>\n",
       "      <td>monsoon</td>\n",
       "      <td>26</td>\n",
       "      <td>28</td>\n",
       "      <td>29</td>\n",
       "      <td>29</td>\n",
       "    </tr>\n",
       "  </tbody>\n",
       "</table>\n",
       "</div>"
      ],
      "text/plain": [
       "    season   A   B   C   D\n",
       "0   summer  36  36  21  35\n",
       "1   winter  28  29  31  32\n",
       "2  monsoon  26  28  29  29"
      ]
     },
     "execution_count": 104,
     "metadata": {},
     "output_type": "execute_result"
    }
   ],
   "source": [
    "df_anova"
   ]
  },
  {
   "cell_type": "code",
   "execution_count": 105,
   "id": "d0c4fb75",
   "metadata": {},
   "outputs": [],
   "source": [
    "df_melt = pd.melt(df_anova, id_vars=['season'], value_vars=['A', 'B', 'C', 'D'], var_name='salesman', value_name='sales')"
   ]
  },
  {
   "cell_type": "code",
   "execution_count": 106,
   "id": "dd4e8743",
   "metadata": {},
   "outputs": [
    {
     "data": {
      "text/html": [
       "<div>\n",
       "<style scoped>\n",
       "    .dataframe tbody tr th:only-of-type {\n",
       "        vertical-align: middle;\n",
       "    }\n",
       "\n",
       "    .dataframe tbody tr th {\n",
       "        vertical-align: top;\n",
       "    }\n",
       "\n",
       "    .dataframe thead th {\n",
       "        text-align: right;\n",
       "    }\n",
       "</style>\n",
       "<table border=\"1\" class=\"dataframe\">\n",
       "  <thead>\n",
       "    <tr style=\"text-align: right;\">\n",
       "      <th></th>\n",
       "      <th>season</th>\n",
       "      <th>salesman</th>\n",
       "      <th>sales</th>\n",
       "    </tr>\n",
       "  </thead>\n",
       "  <tbody>\n",
       "    <tr>\n",
       "      <th>0</th>\n",
       "      <td>summer</td>\n",
       "      <td>A</td>\n",
       "      <td>36</td>\n",
       "    </tr>\n",
       "    <tr>\n",
       "      <th>1</th>\n",
       "      <td>winter</td>\n",
       "      <td>A</td>\n",
       "      <td>28</td>\n",
       "    </tr>\n",
       "    <tr>\n",
       "      <th>2</th>\n",
       "      <td>monsoon</td>\n",
       "      <td>A</td>\n",
       "      <td>26</td>\n",
       "    </tr>\n",
       "    <tr>\n",
       "      <th>3</th>\n",
       "      <td>summer</td>\n",
       "      <td>B</td>\n",
       "      <td>36</td>\n",
       "    </tr>\n",
       "    <tr>\n",
       "      <th>4</th>\n",
       "      <td>winter</td>\n",
       "      <td>B</td>\n",
       "      <td>29</td>\n",
       "    </tr>\n",
       "    <tr>\n",
       "      <th>5</th>\n",
       "      <td>monsoon</td>\n",
       "      <td>B</td>\n",
       "      <td>28</td>\n",
       "    </tr>\n",
       "    <tr>\n",
       "      <th>6</th>\n",
       "      <td>summer</td>\n",
       "      <td>C</td>\n",
       "      <td>21</td>\n",
       "    </tr>\n",
       "    <tr>\n",
       "      <th>7</th>\n",
       "      <td>winter</td>\n",
       "      <td>C</td>\n",
       "      <td>31</td>\n",
       "    </tr>\n",
       "    <tr>\n",
       "      <th>8</th>\n",
       "      <td>monsoon</td>\n",
       "      <td>C</td>\n",
       "      <td>29</td>\n",
       "    </tr>\n",
       "    <tr>\n",
       "      <th>9</th>\n",
       "      <td>summer</td>\n",
       "      <td>D</td>\n",
       "      <td>35</td>\n",
       "    </tr>\n",
       "    <tr>\n",
       "      <th>10</th>\n",
       "      <td>winter</td>\n",
       "      <td>D</td>\n",
       "      <td>32</td>\n",
       "    </tr>\n",
       "    <tr>\n",
       "      <th>11</th>\n",
       "      <td>monsoon</td>\n",
       "      <td>D</td>\n",
       "      <td>29</td>\n",
       "    </tr>\n",
       "  </tbody>\n",
       "</table>\n",
       "</div>"
      ],
      "text/plain": [
       "     season salesman  sales\n",
       "0    summer        A     36\n",
       "1    winter        A     28\n",
       "2   monsoon        A     26\n",
       "3    summer        B     36\n",
       "4    winter        B     29\n",
       "5   monsoon        B     28\n",
       "6    summer        C     21\n",
       "7    winter        C     31\n",
       "8   monsoon        C     29\n",
       "9    summer        D     35\n",
       "10   winter        D     32\n",
       "11  monsoon        D     29"
      ]
     },
     "execution_count": 106,
     "metadata": {},
     "output_type": "execute_result"
    }
   ],
   "source": [
    "df_melt"
   ]
  },
  {
   "cell_type": "code",
   "execution_count": 94,
   "id": "f9c557c6",
   "metadata": {},
   "outputs": [],
   "source": [
    "from statsmodels.formula.api import ols\n",
    "from statsmodels.stats.anova import anova_lm"
   ]
  },
  {
   "cell_type": "code",
   "execution_count": 110,
   "id": "7415eed8",
   "metadata": {},
   "outputs": [],
   "source": [
    "model = ols('sales~salesman+season', data=df_melt).fit()"
   ]
  },
  {
   "cell_type": "code",
   "execution_count": 112,
   "id": "50f26b7c",
   "metadata": {},
   "outputs": [
    {
     "data": {
      "text/html": [
       "<div>\n",
       "<style scoped>\n",
       "    .dataframe tbody tr th:only-of-type {\n",
       "        vertical-align: middle;\n",
       "    }\n",
       "\n",
       "    .dataframe tbody tr th {\n",
       "        vertical-align: top;\n",
       "    }\n",
       "\n",
       "    .dataframe thead th {\n",
       "        text-align: right;\n",
       "    }\n",
       "</style>\n",
       "<table border=\"1\" class=\"dataframe\">\n",
       "  <thead>\n",
       "    <tr style=\"text-align: right;\">\n",
       "      <th></th>\n",
       "      <th>df</th>\n",
       "      <th>sum_sq</th>\n",
       "      <th>mean_sq</th>\n",
       "      <th>F</th>\n",
       "      <th>PR(&gt;F)</th>\n",
       "    </tr>\n",
       "  </thead>\n",
       "  <tbody>\n",
       "    <tr>\n",
       "      <th>salesman</th>\n",
       "      <td>3.0</td>\n",
       "      <td>42.0</td>\n",
       "      <td>14.000000</td>\n",
       "      <td>0.617647</td>\n",
       "      <td>0.628574</td>\n",
       "    </tr>\n",
       "    <tr>\n",
       "      <th>season</th>\n",
       "      <td>2.0</td>\n",
       "      <td>32.0</td>\n",
       "      <td>16.000000</td>\n",
       "      <td>0.705882</td>\n",
       "      <td>0.530504</td>\n",
       "    </tr>\n",
       "    <tr>\n",
       "      <th>Residual</th>\n",
       "      <td>6.0</td>\n",
       "      <td>136.0</td>\n",
       "      <td>22.666667</td>\n",
       "      <td>NaN</td>\n",
       "      <td>NaN</td>\n",
       "    </tr>\n",
       "  </tbody>\n",
       "</table>\n",
       "</div>"
      ],
      "text/plain": [
       "           df  sum_sq    mean_sq         F    PR(>F)\n",
       "salesman  3.0    42.0  14.000000  0.617647  0.628574\n",
       "season    2.0    32.0  16.000000  0.705882  0.530504\n",
       "Residual  6.0   136.0  22.666667       NaN       NaN"
      ]
     },
     "execution_count": 112,
     "metadata": {},
     "output_type": "execute_result"
    }
   ],
   "source": [
    "anova_lm(model)"
   ]
  },
  {
   "cell_type": "code",
   "execution_count": null,
   "id": "0a9f306f",
   "metadata": {},
   "outputs": [],
   "source": []
  },
  {
   "cell_type": "code",
   "execution_count": null,
   "id": "aca74515",
   "metadata": {},
   "outputs": [],
   "source": []
  }
 ],
 "metadata": {
  "kernelspec": {
   "display_name": "Python 3 (ipykernel)",
   "language": "python",
   "name": "python3"
  },
  "language_info": {
   "codemirror_mode": {
    "name": "ipython",
    "version": 3
   },
   "file_extension": ".py",
   "mimetype": "text/x-python",
   "name": "python",
   "nbconvert_exporter": "python",
   "pygments_lexer": "ipython3",
   "version": "3.11.5"
  }
 },
 "nbformat": 4,
 "nbformat_minor": 5
}
